{
  "metadata": {
    "language_info": {
      "codemirror_mode": {
        "name": "python",
        "version": 3
      },
      "file_extension": ".py",
      "mimetype": "text/x-python",
      "name": "python",
      "nbconvert_exporter": "python",
      "pygments_lexer": "ipython3",
      "version": "3.8"
    },
    "kernelspec": {
      "name": "python",
      "display_name": "Python (Pyodide)",
      "language": "python"
    }
  },
  "nbformat_minor": 4,
  "nbformat": 4,
  "cells": [
    {
      "cell_type": "code",
      "source": "import numpy as np",
      "metadata": {
        "trusted": true
      },
      "execution_count": 6,
      "outputs": []
    },
    {
      "cell_type": "code",
      "source": "A=[2.43334,2.43334,4.99926]",
      "metadata": {
        "trusted": true
      },
      "execution_count": 7,
      "outputs": []
    },
    {
      "cell_type": "code",
      "source": "B=np.array([[2.43334,7.30000,4.99926],\n[7.30000,2.43334,4.99926],\n[-2.43334,2.43334,4.99926],\n[2.43334,-2.43334,4.99926]])",
      "metadata": {
        "trusted": true
      },
      "execution_count": 8,
      "outputs": []
    },
    {
      "cell_type": "code",
      "source": "a1=0.5*(A+B[0])\na2=0.5*(A+B[1])\na3=0.5*(A+B[2])\na4=0.5*(A+B[3])\nprint(a1)\nprint(a2)\nprint(a3)\nprint(a4)",
      "metadata": {
        "trusted": true
      },
      "execution_count": 12,
      "outputs": [
        {
          "name": "stdout",
          "text": "[2.43334 4.86667 4.99926]\n[4.86667 2.43334 4.99926]\n[0.      2.43334 4.99926]\n[2.43334 0.      4.99926]\n",
          "output_type": "stream"
        }
      ]
    },
    {
      "cell_type": "code",
      "source": "",
      "metadata": {},
      "execution_count": null,
      "outputs": []
    }
  ]
}